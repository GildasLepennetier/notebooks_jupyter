{
 "cells": [
  {
   "cell_type": "markdown",
   "metadata": {},
   "source": [
    "# __Title:__ Jupyter\n",
    "## __Author:__ Gildas Lepennetier \n",
    "\n",
    "## Set up the servers\n",
    "\n",
    "Connect to the server\n",
    "\n",
    "`ga94rac2@lxlogin5.lrz.de`\n",
    "\n",
    "_optional: change directory, go where the notebooks are stored_\n",
    "\n",
    "`cd ~/notebooks_jupyter`\n",
    "\n",
    "load the required modules\n",
    "\n",
    "`\n",
    "module load python\n",
    "conda info -e\n",
    "conda activate SCENIC_py36\n",
    "`\n",
    "\n",
    "start the jupyter server\n",
    "\n",
    "`jupyter notebook --port-retries=10 --no-browser --port=8888 small_tests.ipynb`\n",
    "\n",
    "__WARNING:__ _If the port is already used, the program will try another one, in this case the following step have to take the new port into account_\n",
    "\n",
    "Start a ssh tunneling (using the port announced)\n",
    "\n",
    "`ssh -v -N -L localhost:8888:localhost:8888 ga94rac2@lxlogin5.lrz.de`\n"
   ]
  },
  {
   "cell_type": "code",
   "execution_count": 10,
   "metadata": {},
   "outputs": [
    {
     "name": "stdout",
     "output_type": "stream",
     "text": [
      "local working directory:\t/home/hpc/tb601/ga94rac2/notebooks_jupyter\n",
      "host is:\t\t\t10.156.79.105\n"
     ]
    }
   ],
   "source": [
    "%%bash\n",
    "echo -e \"local working directory:\\t$(pwd)\"\n",
    "echo -e \"host is:\\t\\t\\t$(hostname -i)\"\n"
   ]
  },
  {
   "cell_type": "markdown",
   "metadata": {},
   "source": []
  }
 ],
 "metadata": {
  "kernelspec": {
   "display_name": "Python 3",
   "language": "python",
   "name": "python3"
  },
  "language_info": {
   "codemirror_mode": {
    "name": "ipython",
    "version": 3
   },
   "file_extension": ".py",
   "mimetype": "text/x-python",
   "name": "python",
   "nbconvert_exporter": "python",
   "pygments_lexer": "ipython3",
   "version": "3.6.8"
  }
 },
 "nbformat": 4,
 "nbformat_minor": 2
}
