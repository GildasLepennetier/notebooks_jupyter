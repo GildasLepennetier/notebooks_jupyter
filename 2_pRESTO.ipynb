{
 "cells": [
  {
   "cell_type": "markdown",
   "metadata": {},
   "source": [
    "# __Title:__ Jupyter notebook for pRESTO\n",
    "#### __Author:__ Gildas Lepennetier \n",
    "\n",
    "<font color='red'> __WARNING__ All those steps are before even starting jupyter </font>\n",
    "\n",
    "## Set up the servers\n",
    "\n",
    "This step should be done even before the jupyter server can be started.\n",
    "\n",
    "### Connect to the server\n",
    "\n",
    "#### Exemple: LRZ linux cluster + SLURM\n",
    "\n",
    "Replace by your own credential\n",
    "\n",
    "`ssh ga94rac2@lxlogin5.lrz.de`\n",
    "\n",
    "\n",
    "### Load the required modules to have anaconda (conda) available\n",
    "\n",
    "`module load python`\n",
    "\n",
    "`conda info -e`\n",
    "\n",
    "    root                  *  /lrz/sys/intel/studio2019_u3/intelpython2\n",
    "\n",
    "This will not be enough to actually use pRESTO. One have to create a new environment, using python 3.6\n",
    "Then, we activate it, and install the required modules\n",
    "\n",
    "`conda create --name pRESTO python=3.6`\n",
    "\n",
    "`conda activate pRESTO`\n",
    "\n",
    "`pip install --upgrade pip presto changeo snakemake jupyter`\n",
    "\n",
    "Check that everything is properly created:\n",
    "\n",
    "`conda info -e`\n",
    "\n",
    "    pRESTO                   /home/hpc/tb601/ga94rac2/.conda/envs/pRESTO\n",
    "    root                  *  /lrz/sys/intel/studio2019_u3/intelpython2\n",
    "\n",
    "\n",
    "It is a good practice to regularely run the pip install --upgrade to be up-to-date \n",
    "\n",
    "### Start the environment with jupyter + required programs\n",
    "\n",
    "<font color='red'> WARNING: The modules (conda, jupyter...) have to be activated before you can start the server</font>\n",
    "\n",
    "To be able to use jupyter notebook, the proper modules have to be started\n",
    "\n",
    "`conda activate pRESTO`\n",
    "\n",
    "`conda info -e`\n",
    "\n",
    "    pRESTO                *  /home/hpc/tb601/ga94rac2/.conda/envs/pRESTO\n",
    "    root                     /lrz/sys/intel/studio2019_u3/intelpython2\n",
    "\n",
    "To quit the session after, the command will be `source deactivate pRESTO`\n"
   ]
  },
  {
   "cell_type": "markdown",
   "metadata": {},
   "source": [
    "## Use Git versioning\n",
    "\n",
    "In the following directory\n",
    "\n",
    "`cd ~/notebooks_jupyter`\n",
    "\n",
    "Start a git, if not already present. First, go to github and create the directory. Then, execute:\n",
    "\n",
    "`module load git\n",
    "git init\n",
    "echo \".ipynb_checkpoints/\" > .gitignore\n",
    "\n",
    "git remote add origin git@github.com:GildasLepennetier/notebooks_jupyter\n",
    "git remote add origin https://github.com/GildasLepennetier/notebooks_jupyter.git\n",
    "\n",
    "git add * .gitignore\n",
    "git commit -am \"first commit\"\n",
    "\n",
    "git push -u origin master\n",
    "`\n",
    "\n",
    "\n",
    "\n",
    "## Start the jupyter server\n",
    "\n",
    "\n",
    "<font color='blue'> optional: change directory, go where the notebooks are stored</font>\n",
    "\n",
    "`cd ~/notebooks_jupyter`\n",
    "\n",
    "`jupyter notebook --port-retries=10 --no-browser --port=8888 small_tests.ipynb`\n",
    "\n",
    "<font color='orange'> WARNING: If the port is already used, the program will try another one, in this case the following step have to take the new port into account</font>\n",
    "\n",
    "Start a ssh tunneling (using the port announced) <font color='red'>on the local computer (not the server) </font> to be able to use your own browser\n",
    "\n",
    "`ssh -v -N -L localhost:8888:localhost:8888 ga94rac2@lxlogin5.lrz.de`\n",
    "\n",
    "## Check some variables:"
   ]
  },
  {
   "cell_type": "code",
   "execution_count": 1,
   "metadata": {},
   "outputs": [
    {
     "name": "stdout",
     "output_type": "stream",
     "text": [
      "local working directory:\t/home/hpc/tb601/ga94rac2/notebooks_jupyter\n",
      "host is:\t\t\t10.156.79.105\n"
     ]
    }
   ],
   "source": [
    "%%bash\n",
    "echo -e \"local working directory:\\t$(pwd)\"\n",
    "echo -e \"host is:\\t\\t\\t$(hostname -i)\"\n"
   ]
  },
  {
   "cell_type": "markdown",
   "metadata": {},
   "source": [
    "## Update the environment\n",
    "\n",
    "It is a good idea to update systematically the programs used"
   ]
  },
  {
   "cell_type": "code",
   "execution_count": 6,
   "metadata": {},
   "outputs": [
    {
     "name": "stdout",
     "output_type": "stream",
     "text": [
      "Requirement already up-to-date: presto in /home/hpc/tb601/ga94rac2/.conda/envs/pRESTO/lib/python3.6/\r\n",
      "Requirement already up-to-date: changeo in /home/hpc/tb601/ga94rac2/.conda/envs/pRESTO/lib/python3.6\r\n",
      "Requirement already satisfied, skipping upgrade: scipy>=0.14 in /home/hpc/tb601/ga94rac2/.conda/envs\r\n",
      "Requirement already satisfied, skipping upgrade: numpy>=1.8 in /home/hpc/tb601/ga94rac2/.conda/envs/\r\n",
      "Requirement already satisfied, skipping upgrade: biopython>=1.65 in /home/hpc/tb601/ga94rac2/.conda/\r\n",
      "Requirement already satisfied, skipping upgrade: pandas>=0.15 in /home/hpc/tb601/ga94rac2/.conda/env\r\n",
      "Requirement already satisfied, skipping upgrade: PyYAML>=3.12 in /home/hpc/tb601/ga94rac2/.conda/env\r\n",
      "Requirement already satisfied, skipping upgrade: airr>=1.2.1 in /home/hpc/tb601/ga94rac2/.conda/envs\r\n",
      "Requirement already satisfied, skipping upgrade: setuptools>=2.0 in /home/hpc/tb601/ga94rac2/.conda/\r\n",
      "Requirement already satisfied, skipping upgrade: python-dateutil>=2.5.0 in /home/hpc/tb601/ga94rac2/\r\n",
      "Requirement already satisfied, skipping upgrade: pytz>=2011k in /home/hpc/tb601/ga94rac2/.conda/envs\r\n",
      "Requirement already satisfied, skipping upgrade: yamlordereddictloader>=0.4.0 in /home/hpc/tb601/ga9\r\n",
      "Requirement already satisfied, skipping upgrade: six>=1.5 in /home/hpc/tb601/ga94rac2/.conda/envs/pR\r\n"
     ]
    }
   ],
   "source": [
    "!pip install --upgrade presto changeo | cut -c 1-100"
   ]
  },
  {
   "cell_type": "markdown",
   "metadata": {},
   "source": [
    "## PARAMETERS\n",
    "\n",
    "It is a good practice to have files with all parameters for a job. A common was to do it is to have a file in: \n",
    "\n",
    "    text\n",
    "    json\n",
    "    python pickle\n",
    "    R data\n",
    "\n",
    "All options are retrived from those files and help to keep track of the data for each run\n"
   ]
  },
  {
   "cell_type": "code",
   "execution_count": null,
   "metadata": {},
   "outputs": [],
   "source": []
  }
 ],
 "metadata": {
  "kernelspec": {
   "display_name": "Python 3",
   "language": "python",
   "name": "python3"
  },
  "language_info": {
   "codemirror_mode": {
    "name": "ipython",
    "version": 3
   },
   "file_extension": ".py",
   "mimetype": "text/x-python",
   "name": "python",
   "nbconvert_exporter": "python",
   "pygments_lexer": "ipython3",
   "version": "3.6.5"
  }
 },
 "nbformat": 4,
 "nbformat_minor": 2
}
