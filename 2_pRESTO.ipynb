{
 "cells": [
  {
   "cell_type": "markdown",
   "metadata": {},
   "source": [
    "# __Title:__ Jupyter notebook for pRESTO\n",
    "\n",
    "#### __Author:__ Gildas Lepennetier \n",
    "\n",
    "<font color='red'> __WARNING__ All those steps are before even starting jupyter </font>\n",
    "\n",
    "## Set up the servers\n",
    "\n",
    "This step should be done even before the jupyter server can be started.\n",
    "\n",
    "### Create keys to avoid passwords\n",
    "\n",
    "On the local computer:\n",
    "\n",
    "`ssh-keygen\n",
    "ssh-copy-id -i ~/.ssh/id_rsa.pub ga94rac2@lxlogin5.lrz.de\n",
    "`\n",
    "\n",
    "### Connect to the server\n",
    "\n",
    "#### Exemple: LRZ linux cluster + SLURM\n",
    "\n",
    "Replace by your own credential\n",
    "\n",
    "`ssh ga94rac2@lxlogin5.lrz.de`\n",
    "\n",
    "\n",
    "### Load the required modules to have anaconda (conda) available\n",
    "\n",
    "`module load python`\n",
    "\n",
    "`conda info -e`\n",
    "\n",
    "    root                  *  /lrz/sys/intel/studio2019_u3/intelpython2\n",
    "\n",
    "This will not be enough to actually use pRESTO. One have to create a new environment, using python 3.6\n",
    "Then, we activate it, and install the required modules\n",
    "\n",
    "`conda create --name pRESTO python=3.6`\n",
    "\n",
    "`conda activate pRESTO`\n",
    "\n",
    "`pip install --upgrade pip presto changeo snakemake jupyter`\n",
    "\n",
    "Check that everything is properly created:\n",
    "\n",
    "`conda info -e`\n",
    "\n",
    "    pRESTO                   /home/hpc/tb601/ga94rac2/.conda/envs/pRESTO\n",
    "    root                  *  /lrz/sys/intel/studio2019_u3/intelpython2\n",
    "\n",
    "\n",
    "It is a good practice to regularely run the pip install --upgrade to be up-to-date \n",
    "\n",
    "### Start the environment with jupyter + required programs\n",
    "\n",
    "<font color='red'> WARNING: The modules (conda, jupyter...) have to be activated before you can start the server</font>\n",
    "\n",
    "To be able to use jupyter notebook, the proper modules have to be started\n",
    "\n",
    "`conda activate pRESTO`\n",
    "\n",
    "`conda info -e`\n",
    "\n",
    "    pRESTO                *  /home/hpc/tb601/ga94rac2/.conda/envs/pRESTO\n",
    "    root                     /lrz/sys/intel/studio2019_u3/intelpython2\n",
    "\n",
    "To quit the session after, the command will be `source deactivate pRESTO`\n"
   ]
  },
  {
   "cell_type": "markdown",
   "metadata": {},
   "source": [
    "## Use Git versioning\n",
    "\n",
    "In the following directory\n",
    "\n",
    "`cd ~/notebooks_jupyter`\n",
    "\n",
    "### Start a git, <font color='red'>if not already present.</font>\n",
    "\n",
    "First, go to github and create the directory. Then, execute:\n",
    "\n",
    "`\n",
    "module load git\n",
    "git init\n",
    "git remote add origin https://github.com/GildasLepennetier/notebooks_jupyter.git\n",
    "echo \".ipynb_checkpoints/\" > .gitignore\n",
    "git add * .gitignore\n",
    "git commit -am \"first commit\"\n",
    "git push --set-upstream origin master\n",
    "`\n",
    "\n",
    "### Clone a git, <font color='red'>if already existing.</font>\n",
    "\n",
    "`git clone https://github.com/GildasLepennetier/notebooks_jupyter.git`\n",
    "\n",
    "### Update your git directory, <font color='green'>if already present.</font>\n",
    "\n",
    "`git pull`"
   ]
  },
  {
   "cell_type": "markdown",
   "metadata": {},
   "source": [
    "## Start the jupyter server\n",
    "\n",
    "\n",
    "<font color='blue'> optional: change directory, go where the notebooks are stored</font>\n",
    "\n",
    "`cd ~/notebooks_jupyter`\n",
    "\n",
    "`jupyter notebook --port-retries=10 --no-browser --port=8888 small_tests.ipynb`\n",
    "\n",
    "<font color='orange'> WARNING: If the port is already used, the program will try another one, in this case the following step have to take the new port into account</font>\n",
    "\n",
    "Start a ssh tunneling (using the port announced) <font color='red'>on the local computer (not the server) </font> to be able to use your own browser\n",
    "\n",
    "`ssh -v -N -L localhost:8888:localhost:8888 ga94rac2@lxlogin5.lrz.de`\n",
    "\n",
    "## Check some variables:"
   ]
  },
  {
   "cell_type": "code",
   "execution_count": 7,
   "metadata": {},
   "outputs": [
    {
     "name": "stdout",
     "output_type": "stream",
     "text": [
      "local working directory:\t/home/hpc/tb601/ga94rac2/notebooks_jupyter\n",
      "host is:\t\t\t10.156.79.105\n"
     ]
    }
   ],
   "source": [
    "%%bash\n",
    "echo -e \"local working directory:\\t$(pwd)\"\n",
    "echo -e \"host is:\\t\\t\\t$(hostname -i)\"\n"
   ]
  },
  {
   "cell_type": "markdown",
   "metadata": {},
   "source": [
    "## Update the environment\n",
    "\n",
    "It is a good idea to update systematically the programs used"
   ]
  },
  {
   "cell_type": "code",
   "execution_count": 8,
   "metadata": {},
   "outputs": [
    {
     "name": "stdout",
     "output_type": "stream",
     "text": [
      "Requirement already up-to-date: presto in /home/hpc/tb601/ga94rac2/.conda/envs/pRESTO/lib/python3.6/\r\n",
      "Requirement already up-to-date: changeo in /home/hpc/tb601/ga94rac2/.conda/envs/pRESTO/lib/python3.6\r\n",
      "Requirement already satisfied, skipping upgrade: biopython>=1.65 in /home/hpc/tb601/ga94rac2/.conda/\r\n",
      "Requirement already satisfied, skipping upgrade: scipy>=0.14 in /home/hpc/tb601/ga94rac2/.conda/envs\r\n",
      "Requirement already satisfied, skipping upgrade: numpy>=1.8 in /home/hpc/tb601/ga94rac2/.conda/envs/\r\n",
      "Requirement already satisfied, skipping upgrade: pandas>=0.15 in /home/hpc/tb601/ga94rac2/.conda/env\r\n",
      "Requirement already satisfied, skipping upgrade: airr>=1.2.1 in /home/hpc/tb601/ga94rac2/.conda/envs\r\n",
      "Requirement already satisfied, skipping upgrade: setuptools>=2.0 in /home/hpc/tb601/ga94rac2/.conda/\r\n",
      "Requirement already satisfied, skipping upgrade: PyYAML>=3.12 in /home/hpc/tb601/ga94rac2/.conda/env\r\n",
      "Requirement already satisfied, skipping upgrade: python-dateutil>=2.5.0 in /home/hpc/tb601/ga94rac2/\r\n",
      "Requirement already satisfied, skipping upgrade: pytz>=2011k in /home/hpc/tb601/ga94rac2/.conda/envs\r\n",
      "Requirement already satisfied, skipping upgrade: yamlordereddictloader>=0.4.0 in /home/hpc/tb601/ga9\r\n",
      "Requirement already satisfied, skipping upgrade: six>=1.5 in /home/hpc/tb601/ga94rac2/.conda/envs/pR\r\n"
     ]
    }
   ],
   "source": [
    "!pip install --upgrade presto changeo | cut -c 1-100"
   ]
  },
  {
   "cell_type": "markdown",
   "metadata": {},
   "source": [
    "## Get some scripts for the processing\n",
    "\n",
    "`cd /home/hpc/tb601/ga94rac2/presto_cluster\n",
    "git pull`\n"
   ]
  },
  {
   "cell_type": "markdown",
   "metadata": {},
   "source": [
    "## PARAMETERS\n",
    "\n",
    "It is a good practice to have files with all parameters for a job. A common was to do it is to have a file in: \n",
    "\n",
    "    text\n",
    "    json\n",
    "    python pickle\n",
    "    R data\n",
    "\n",
    "All options are retrived from those files and help to keep track of the data for each run. It is also possible to set the options in this script.\n"
   ]
  },
  {
   "cell_type": "markdown",
   "metadata": {},
   "source": [
    "## Get the data\n",
    "\n",
    "He have to copy the data to the working directory\n",
    "\n",
    "### Send data to the server\n",
    "### Sort the folder"
   ]
  },
  {
   "cell_type": "code",
   "execution_count": 20,
   "metadata": {},
   "outputs": [
    {
     "name": "stdout",
     "output_type": "stream",
     "text": [
      "Separation of samples in directories\n",
      "Moving into: /gpfs/scratch/tb601/ga94rac2/190308_M04284_0061_000000000-C9YC4\n",
      "currently doing: SAMPLE_TAG = _S0_L\n",
      "Undetermined ( *_S0_L* ) -- skipped\n",
      "currently doing: SAMPLE_TAG = _S1_L\n",
      "currently doing: SAMPLE_TAG = _S2_L\n",
      "currently doing: SAMPLE_TAG = _S3_L\n",
      "currently doing: SAMPLE_TAG = _S4_L\n",
      "currently doing: SAMPLE_TAG = _S5_L\n",
      "currently doing: SAMPLE_TAG = _S6_L\n",
      "currently doing: SAMPLE_TAG = _S7_L\n",
      "currently doing: SAMPLE_TAG = _S8_L\n",
      "### list of all directories, save in /gpfs/scratch/tb601/ga94rac2/190308_M04284_0061_000000000-C9YC4/all_samples.txt\n",
      "samples file = /gpfs/scratch/tb601/ga94rac2/190308_M04284_0061_000000000-C9YC4/all_samples.txt\n",
      "processed:\n",
      "BL6-LN_S4\n",
      "BL6-PEG-SPL_S7\n",
      "BL6-SPL_S3\n",
      "BL-LN-PEG_S8\n",
      "MP3_S1\n",
      "MP4-PEG_S2\n",
      "TH-LN_S6\n",
      "TH-SPL_S5\n",
      "end: Thu Apr 18 14:19:30 CEST 2019\n"
     ]
    }
   ],
   "source": [
    "%%bash\n",
    "LOGIN_DATA_source=\"ga94rac@141.39.145.123:\"\n",
    "LOGIN_DATA_target=\"\" #ga94rac2@lxlogin5.lrz.de: #no need since already connected there\n",
    "\n",
    "RUN_ID=\"190308_M04284_0061_000000000-C9YC4\"\n",
    "echo \"$RUN_ID\" > $HOME/run.tmp\n",
    "\n",
    "DATA_SOURCE_root=\"/media/ga94rac/BACKUP1/\"\n",
    "FASTA_source=\"$DATA_SOURCE_root/$RUN_ID/Data/Intensities/BaseCalls/\"\n",
    "WORKING_DIRECTORY_root=\"/gpfs/scratch/tb601/ga94rac2\"\n",
    "FASTA_target=$WORKING_DIRECTORY_root/$RUN_ID/\n",
    "\n",
    "mkdir -p $FASTA_target\n",
    "\n",
    "#the fasta files are on a specific place. -v verbose -c checksum\n",
    "#I have to pass an extra argument for ssh on port != 22\n",
    "\n",
    "rsync --info=NAME1 -e 'ssh -p 2702' $LOGIN_DATA_source$FASTA_source\"/*.fastq.gz\" $LOGIN_DATA_target$FASTA_target\n",
    "\n",
    "rsync --info=NAME1 -e 'ssh -p 2702' $LOGIN_DATA_source/$DATA_SOURCE_root/$RUN_ID\"/SampleSheet.csv\" $LOGIN_DATA_target$FASTA_target\n",
    "\n",
    "bash $HOME/presto_cluster/SCRIPTS/script_3_bashMe_v1_sort_run_dir.sh $HOME/run.tmp $WORKING_DIRECTORY_root\n"
   ]
  },
  {
   "cell_type": "markdown",
   "metadata": {},
   "source": []
  }
 ],
 "metadata": {
  "kernelspec": {
   "display_name": "Python 3",
   "language": "python",
   "name": "python3"
  },
  "language_info": {
   "codemirror_mode": {
    "name": "ipython",
    "version": 3
   },
   "file_extension": ".py",
   "mimetype": "text/x-python",
   "name": "python",
   "nbconvert_exporter": "python",
   "pygments_lexer": "ipython3",
   "version": "3.6.5"
  }
 },
 "nbformat": 4,
 "nbformat_minor": 2
}
